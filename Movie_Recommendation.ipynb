{
 "cells": [
  {
   "cell_type": "markdown",
   "id": "9c3f5eab",
   "metadata": {},
   "source": [
    "# Movie Reccomendation System"
   ]
  },
  {
   "cell_type": "code",
   "execution_count": 1,
   "id": "4284d06e-777b-4312-92f7-1f55dcf8354d",
   "metadata": {},
   "outputs": [],
   "source": [
    "import pandas as pd\n",
    "import difflib\n",
    "from sklearn.feature_extraction.text import TfidfVectorizer\n",
    "from sklearn.metrics.pairwise import cosine_similarity"
   ]
  },
  {
   "cell_type": "code",
   "execution_count": 2,
   "id": "d9ee4add-f585-4cf7-9eda-a79ed8081c11",
   "metadata": {},
   "outputs": [],
   "source": [
    "m_data = pd.read_csv(\"C:\\\\Users\\\\Ishika Chandwadkar\\\\Downloads\\\\movie_dataset.csv\")"
   ]
  },
  {
   "cell_type": "code",
   "execution_count": 3,
   "id": "f4b0ab79-9b47-416f-a129-c800dc286a9e",
   "metadata": {},
   "outputs": [
    {
     "data": {
      "text/html": [
       "<div>\n",
       "<style scoped>\n",
       "    .dataframe tbody tr th:only-of-type {\n",
       "        vertical-align: middle;\n",
       "    }\n",
       "\n",
       "    .dataframe tbody tr th {\n",
       "        vertical-align: top;\n",
       "    }\n",
       "\n",
       "    .dataframe thead th {\n",
       "        text-align: right;\n",
       "    }\n",
       "</style>\n",
       "<table border=\"1\" class=\"dataframe\">\n",
       "  <thead>\n",
       "    <tr style=\"text-align: right;\">\n",
       "      <th></th>\n",
       "      <th>index</th>\n",
       "      <th>budget</th>\n",
       "      <th>genres</th>\n",
       "      <th>homepage</th>\n",
       "      <th>id</th>\n",
       "      <th>keywords</th>\n",
       "      <th>original_language</th>\n",
       "      <th>original_title</th>\n",
       "      <th>overview</th>\n",
       "      <th>popularity</th>\n",
       "      <th>...</th>\n",
       "      <th>runtime</th>\n",
       "      <th>spoken_languages</th>\n",
       "      <th>status</th>\n",
       "      <th>tagline</th>\n",
       "      <th>title</th>\n",
       "      <th>vote_average</th>\n",
       "      <th>vote_count</th>\n",
       "      <th>cast</th>\n",
       "      <th>crew</th>\n",
       "      <th>director</th>\n",
       "    </tr>\n",
       "  </thead>\n",
       "  <tbody>\n",
       "    <tr>\n",
       "      <th>0</th>\n",
       "      <td>0</td>\n",
       "      <td>237000000</td>\n",
       "      <td>Action Adventure Fantasy Science Fiction</td>\n",
       "      <td>http://www.avatarmovie.com/</td>\n",
       "      <td>19995</td>\n",
       "      <td>culture clash future space war space colony so...</td>\n",
       "      <td>en</td>\n",
       "      <td>Avatar</td>\n",
       "      <td>In the 22nd century, a paraplegic Marine is di...</td>\n",
       "      <td>150.437577</td>\n",
       "      <td>...</td>\n",
       "      <td>162.0</td>\n",
       "      <td>[{\"iso_639_1\": \"en\", \"name\": \"English\"}, {\"iso...</td>\n",
       "      <td>Released</td>\n",
       "      <td>Enter the World of Pandora.</td>\n",
       "      <td>Avatar</td>\n",
       "      <td>7.2</td>\n",
       "      <td>11800</td>\n",
       "      <td>Sam Worthington Zoe Saldana Sigourney Weaver S...</td>\n",
       "      <td>[{'name': 'Stephen E. Rivkin', 'gender': 0, 'd...</td>\n",
       "      <td>James Cameron</td>\n",
       "    </tr>\n",
       "    <tr>\n",
       "      <th>1</th>\n",
       "      <td>1</td>\n",
       "      <td>300000000</td>\n",
       "      <td>Adventure Fantasy Action</td>\n",
       "      <td>http://disney.go.com/disneypictures/pirates/</td>\n",
       "      <td>285</td>\n",
       "      <td>ocean drug abuse exotic island east india trad...</td>\n",
       "      <td>en</td>\n",
       "      <td>Pirates of the Caribbean: At World's End</td>\n",
       "      <td>Captain Barbossa, long believed to be dead, ha...</td>\n",
       "      <td>139.082615</td>\n",
       "      <td>...</td>\n",
       "      <td>169.0</td>\n",
       "      <td>[{\"iso_639_1\": \"en\", \"name\": \"English\"}]</td>\n",
       "      <td>Released</td>\n",
       "      <td>At the end of the world, the adventure begins.</td>\n",
       "      <td>Pirates of the Caribbean: At World's End</td>\n",
       "      <td>6.9</td>\n",
       "      <td>4500</td>\n",
       "      <td>Johnny Depp Orlando Bloom Keira Knightley Stel...</td>\n",
       "      <td>[{'name': 'Dariusz Wolski', 'gender': 2, 'depa...</td>\n",
       "      <td>Gore Verbinski</td>\n",
       "    </tr>\n",
       "    <tr>\n",
       "      <th>2</th>\n",
       "      <td>2</td>\n",
       "      <td>245000000</td>\n",
       "      <td>Action Adventure Crime</td>\n",
       "      <td>http://www.sonypictures.com/movies/spectre/</td>\n",
       "      <td>206647</td>\n",
       "      <td>spy based on novel secret agent sequel mi6</td>\n",
       "      <td>en</td>\n",
       "      <td>Spectre</td>\n",
       "      <td>A cryptic message from Bond’s past sends him o...</td>\n",
       "      <td>107.376788</td>\n",
       "      <td>...</td>\n",
       "      <td>148.0</td>\n",
       "      <td>[{\"iso_639_1\": \"fr\", \"name\": \"Fran\\u00e7ais\"},...</td>\n",
       "      <td>Released</td>\n",
       "      <td>A Plan No One Escapes</td>\n",
       "      <td>Spectre</td>\n",
       "      <td>6.3</td>\n",
       "      <td>4466</td>\n",
       "      <td>Daniel Craig Christoph Waltz L\\u00e9a Seydoux ...</td>\n",
       "      <td>[{'name': 'Thomas Newman', 'gender': 2, 'depar...</td>\n",
       "      <td>Sam Mendes</td>\n",
       "    </tr>\n",
       "    <tr>\n",
       "      <th>3</th>\n",
       "      <td>3</td>\n",
       "      <td>250000000</td>\n",
       "      <td>Action Crime Drama Thriller</td>\n",
       "      <td>http://www.thedarkknightrises.com/</td>\n",
       "      <td>49026</td>\n",
       "      <td>dc comics crime fighter terrorist secret ident...</td>\n",
       "      <td>en</td>\n",
       "      <td>The Dark Knight Rises</td>\n",
       "      <td>Following the death of District Attorney Harve...</td>\n",
       "      <td>112.312950</td>\n",
       "      <td>...</td>\n",
       "      <td>165.0</td>\n",
       "      <td>[{\"iso_639_1\": \"en\", \"name\": \"English\"}]</td>\n",
       "      <td>Released</td>\n",
       "      <td>The Legend Ends</td>\n",
       "      <td>The Dark Knight Rises</td>\n",
       "      <td>7.6</td>\n",
       "      <td>9106</td>\n",
       "      <td>Christian Bale Michael Caine Gary Oldman Anne ...</td>\n",
       "      <td>[{'name': 'Hans Zimmer', 'gender': 2, 'departm...</td>\n",
       "      <td>Christopher Nolan</td>\n",
       "    </tr>\n",
       "    <tr>\n",
       "      <th>4</th>\n",
       "      <td>4</td>\n",
       "      <td>260000000</td>\n",
       "      <td>Action Adventure Science Fiction</td>\n",
       "      <td>http://movies.disney.com/john-carter</td>\n",
       "      <td>49529</td>\n",
       "      <td>based on novel mars medallion space travel pri...</td>\n",
       "      <td>en</td>\n",
       "      <td>John Carter</td>\n",
       "      <td>John Carter is a war-weary, former military ca...</td>\n",
       "      <td>43.926995</td>\n",
       "      <td>...</td>\n",
       "      <td>132.0</td>\n",
       "      <td>[{\"iso_639_1\": \"en\", \"name\": \"English\"}]</td>\n",
       "      <td>Released</td>\n",
       "      <td>Lost in our world, found in another.</td>\n",
       "      <td>John Carter</td>\n",
       "      <td>6.1</td>\n",
       "      <td>2124</td>\n",
       "      <td>Taylor Kitsch Lynn Collins Samantha Morton Wil...</td>\n",
       "      <td>[{'name': 'Andrew Stanton', 'gender': 2, 'depa...</td>\n",
       "      <td>Andrew Stanton</td>\n",
       "    </tr>\n",
       "  </tbody>\n",
       "</table>\n",
       "<p>5 rows × 24 columns</p>\n",
       "</div>"
      ],
      "text/plain": [
       "   index     budget                                    genres  \\\n",
       "0      0  237000000  Action Adventure Fantasy Science Fiction   \n",
       "1      1  300000000                  Adventure Fantasy Action   \n",
       "2      2  245000000                    Action Adventure Crime   \n",
       "3      3  250000000               Action Crime Drama Thriller   \n",
       "4      4  260000000          Action Adventure Science Fiction   \n",
       "\n",
       "                                       homepage      id  \\\n",
       "0                   http://www.avatarmovie.com/   19995   \n",
       "1  http://disney.go.com/disneypictures/pirates/     285   \n",
       "2   http://www.sonypictures.com/movies/spectre/  206647   \n",
       "3            http://www.thedarkknightrises.com/   49026   \n",
       "4          http://movies.disney.com/john-carter   49529   \n",
       "\n",
       "                                            keywords original_language  \\\n",
       "0  culture clash future space war space colony so...                en   \n",
       "1  ocean drug abuse exotic island east india trad...                en   \n",
       "2         spy based on novel secret agent sequel mi6                en   \n",
       "3  dc comics crime fighter terrorist secret ident...                en   \n",
       "4  based on novel mars medallion space travel pri...                en   \n",
       "\n",
       "                             original_title  \\\n",
       "0                                    Avatar   \n",
       "1  Pirates of the Caribbean: At World's End   \n",
       "2                                   Spectre   \n",
       "3                     The Dark Knight Rises   \n",
       "4                               John Carter   \n",
       "\n",
       "                                            overview  popularity  ... runtime  \\\n",
       "0  In the 22nd century, a paraplegic Marine is di...  150.437577  ...   162.0   \n",
       "1  Captain Barbossa, long believed to be dead, ha...  139.082615  ...   169.0   \n",
       "2  A cryptic message from Bond’s past sends him o...  107.376788  ...   148.0   \n",
       "3  Following the death of District Attorney Harve...  112.312950  ...   165.0   \n",
       "4  John Carter is a war-weary, former military ca...   43.926995  ...   132.0   \n",
       "\n",
       "                                    spoken_languages    status  \\\n",
       "0  [{\"iso_639_1\": \"en\", \"name\": \"English\"}, {\"iso...  Released   \n",
       "1           [{\"iso_639_1\": \"en\", \"name\": \"English\"}]  Released   \n",
       "2  [{\"iso_639_1\": \"fr\", \"name\": \"Fran\\u00e7ais\"},...  Released   \n",
       "3           [{\"iso_639_1\": \"en\", \"name\": \"English\"}]  Released   \n",
       "4           [{\"iso_639_1\": \"en\", \"name\": \"English\"}]  Released   \n",
       "\n",
       "                                          tagline  \\\n",
       "0                     Enter the World of Pandora.   \n",
       "1  At the end of the world, the adventure begins.   \n",
       "2                           A Plan No One Escapes   \n",
       "3                                 The Legend Ends   \n",
       "4            Lost in our world, found in another.   \n",
       "\n",
       "                                      title vote_average vote_count  \\\n",
       "0                                    Avatar          7.2      11800   \n",
       "1  Pirates of the Caribbean: At World's End          6.9       4500   \n",
       "2                                   Spectre          6.3       4466   \n",
       "3                     The Dark Knight Rises          7.6       9106   \n",
       "4                               John Carter          6.1       2124   \n",
       "\n",
       "                                                cast  \\\n",
       "0  Sam Worthington Zoe Saldana Sigourney Weaver S...   \n",
       "1  Johnny Depp Orlando Bloom Keira Knightley Stel...   \n",
       "2  Daniel Craig Christoph Waltz L\\u00e9a Seydoux ...   \n",
       "3  Christian Bale Michael Caine Gary Oldman Anne ...   \n",
       "4  Taylor Kitsch Lynn Collins Samantha Morton Wil...   \n",
       "\n",
       "                                                crew           director  \n",
       "0  [{'name': 'Stephen E. Rivkin', 'gender': 0, 'd...      James Cameron  \n",
       "1  [{'name': 'Dariusz Wolski', 'gender': 2, 'depa...     Gore Verbinski  \n",
       "2  [{'name': 'Thomas Newman', 'gender': 2, 'depar...         Sam Mendes  \n",
       "3  [{'name': 'Hans Zimmer', 'gender': 2, 'departm...  Christopher Nolan  \n",
       "4  [{'name': 'Andrew Stanton', 'gender': 2, 'depa...     Andrew Stanton  \n",
       "\n",
       "[5 rows x 24 columns]"
      ]
     },
     "execution_count": 3,
     "metadata": {},
     "output_type": "execute_result"
    }
   ],
   "source": [
    "m_data.head()"
   ]
  },
  {
   "cell_type": "code",
   "execution_count": 4,
   "id": "5acf2b16-0a82-4b6b-b2ff-ce0537adb250",
   "metadata": {},
   "outputs": [
    {
     "data": {
      "text/plain": [
       "(4803, 24)"
      ]
     },
     "execution_count": 4,
     "metadata": {},
     "output_type": "execute_result"
    }
   ],
   "source": [
    "m_data.shape"
   ]
  },
  {
   "cell_type": "code",
   "execution_count": 5,
   "id": "dd5ef32d-2a20-45d4-bc6e-aabd09692eff",
   "metadata": {},
   "outputs": [],
   "source": [
    "selected_features= ['genres','keywords','tagline','cast','director']"
   ]
  },
  {
   "cell_type": "code",
   "execution_count": 6,
   "id": "0af45467-9c40-499b-900b-e089b4440327",
   "metadata": {},
   "outputs": [
    {
     "name": "stdout",
     "output_type": "stream",
     "text": [
      "['genres', 'keywords', 'tagline', 'cast', 'director']\n"
     ]
    }
   ],
   "source": [
    "print(selected_features)"
   ]
  },
  {
   "cell_type": "code",
   "execution_count": 7,
   "id": "ceead107-a8a3-4aa7-b67e-7c34ddfbc04d",
   "metadata": {},
   "outputs": [],
   "source": [
    "for feature in selected_features:\n",
    "    m_data[feature] = m_data[feature].fillna('')"
   ]
  },
  {
   "cell_type": "code",
   "execution_count": 8,
   "id": "df6bab0f-cd21-467a-8de6-9e78d3d0450b",
   "metadata": {},
   "outputs": [],
   "source": [
    "combined_features = m_data['genres']+' '+m_data['keywords']+' '+m_data['tagline']+' '+m_data['cast']+' '+m_data['director']"
   ]
  },
  {
   "cell_type": "code",
   "execution_count": 9,
   "id": "818a47e0-5e13-4714-99b4-c8d418b2a3f3",
   "metadata": {},
   "outputs": [
    {
     "name": "stdout",
     "output_type": "stream",
     "text": [
      "0       Action Adventure Fantasy Science Fiction cultu...\n",
      "1       Adventure Fantasy Action ocean drug abuse exot...\n",
      "2       Action Adventure Crime spy based on novel secr...\n",
      "3       Action Crime Drama Thriller dc comics crime fi...\n",
      "4       Action Adventure Science Fiction based on nove...\n",
      "                              ...                        \n",
      "4798    Action Crime Thriller united states\\u2013mexic...\n",
      "4799    Comedy Romance  A newlywed couple's honeymoon ...\n",
      "4800    Comedy Drama Romance TV Movie date love at fir...\n",
      "4801      A New Yorker in Shanghai Daniel Henney Eliza...\n",
      "4802    Documentary obsession camcorder crush dream gi...\n",
      "Length: 4803, dtype: object\n"
     ]
    }
   ],
   "source": [
    "print(combined_features)"
   ]
  },
  {
   "cell_type": "code",
   "execution_count": 12,
   "id": "94400321-6712-4655-8f33-41f8f7bcb0b1",
   "metadata": {},
   "outputs": [],
   "source": [
    "vectorizer = TfidfVectorizer() #Term Frequency-Inverse Document Frequency Vectorizer.\" It combines the concepts of term frequency\n",
    "#(TF) and inverse document frequency (IDF) to calculate a numerical representation of text data.\n",
    "#It is used for converting a collection of raw documents into a numerical representation suitable for machine learning algorithms.\n",
    "#1. Term Frequency (TF): It calculates the frequency of each term (word) in a document. The assumption is that the more frequent \n",
    "#   a term appears in a document, the more important it is to that document.\n",
    "#2. Inverse Document Frequency (IDF): It calculates the inverse document frequency for each term. IDF measures how \n",
    "#   important a term is across the entire corpus of documents. It assigns higher weights to terms that are less frequent in the entire corpus.\n",
    "#3. TF-IDF Calculation: The TF-IDF score for a term in a document is calculated as the product of the term's TF and IDF values. \n",
    "#   This score reflects the importance of the term in the document relative to the entire corpus."
   ]
  },
  {
   "cell_type": "code",
   "execution_count": 13,
   "id": "1f8bf76a-af31-49b2-a890-d328a6d7ecb2",
   "metadata": {},
   "outputs": [],
   "source": [
    "feature_vectors = vectorizer.fit_transform(combined_features) #It performs two operations: fitting the vectorizer on the training data and transforming the training data into a numerical representation."
   ]
  },
  {
   "cell_type": "code",
   "execution_count": 14,
   "id": "60254ce1-6df9-4dbc-b66d-42b5dde4f5a9",
   "metadata": {},
   "outputs": [],
   "source": [
    "similarity = cosine_similarity(feature_vectors) #Cosine similarity is a metric used to measure the similarity between \n",
    "# two vectors. It is commonly used in information retrieval, natural language processing, and recommendation systems."
   ]
  },
  {
   "cell_type": "code",
   "execution_count": 15,
   "id": "354b1671-a603-4555-a71b-2d733375dc85",
   "metadata": {},
   "outputs": [
    {
     "name": "stdout",
     "output_type": "stream",
     "text": [
      "[[1.         0.07219487 0.037733   ... 0.         0.         0.        ]\n",
      " [0.07219487 1.         0.03281499 ... 0.03575545 0.         0.        ]\n",
      " [0.037733   0.03281499 1.         ... 0.         0.05389661 0.        ]\n",
      " ...\n",
      " [0.         0.03575545 0.         ... 1.         0.         0.02651502]\n",
      " [0.         0.         0.05389661 ... 0.         1.         0.        ]\n",
      " [0.         0.         0.         ... 0.02651502 0.         1.        ]]\n"
     ]
    }
   ],
   "source": [
    "print(similarity)"
   ]
  },
  {
   "cell_type": "code",
   "execution_count": 16,
   "id": "a1ce9519-b649-49d2-80c6-1c0bdf736a6d",
   "metadata": {},
   "outputs": [
    {
     "name": "stdout",
     "output_type": "stream",
     "text": [
      "(4803, 4803)\n"
     ]
    }
   ],
   "source": [
    "print(similarity.shape)"
   ]
  },
  {
   "cell_type": "code",
   "execution_count": 17,
   "id": "7fbe1e4d-28c3-4d15-9819-7c4e90f6bf85",
   "metadata": {},
   "outputs": [
    {
     "name": "stdout",
     "output_type": "stream",
     "text": [
      "Enter your favourite movie name: Avatar\n"
     ]
    }
   ],
   "source": [
    "m_name= input('Enter your favourite movie name: ')"
   ]
  },
  {
   "cell_type": "code",
   "execution_count": 18,
   "id": "3958026c-8ad3-4966-9fc9-d9701c0e2a8d",
   "metadata": {},
   "outputs": [],
   "source": [
    "list_of_all_titles = m_data['title'].tolist()"
   ]
  },
  {
   "cell_type": "code",
   "execution_count": 19,
   "id": "c8519248-449b-451a-9eb9-cc2e76a8a9f7",
   "metadata": {},
   "outputs": [],
   "source": [
    "find_close_match = difflib.get_close_matches(m_name, list_of_all_titles)"
   ]
  },
  {
   "cell_type": "code",
   "execution_count": 20,
   "id": "f4c5c24a-d4ca-430b-8053-70983a83be2d",
   "metadata": {},
   "outputs": [
    {
     "name": "stdout",
     "output_type": "stream",
     "text": [
      "['Avatar']\n"
     ]
    }
   ],
   "source": [
    "print(find_close_match)"
   ]
  },
  {
   "cell_type": "code",
   "execution_count": 21,
   "id": "155f0a70-05e0-4be2-9718-ee89f1fac55b",
   "metadata": {},
   "outputs": [
    {
     "name": "stdout",
     "output_type": "stream",
     "text": [
      "Avatar\n"
     ]
    }
   ],
   "source": [
    "close_match = find_close_match[0]\n",
    "print(close_match)"
   ]
  },
  {
   "cell_type": "code",
   "execution_count": 22,
   "id": "3afbdbd6-408c-46c8-a0c0-310c68582bcc",
   "metadata": {},
   "outputs": [],
   "source": [
    "index_of_the_movie = m_data[m_data.title == close_match]['index'].values[0]"
   ]
  },
  {
   "cell_type": "code",
   "execution_count": 23,
   "id": "77405437-3c22-4e24-88ac-52d62243caa2",
   "metadata": {},
   "outputs": [
    {
     "name": "stdout",
     "output_type": "stream",
     "text": [
      "0\n"
     ]
    }
   ],
   "source": [
    "print(index_of_the_movie)"
   ]
  },
  {
   "cell_type": "code",
   "execution_count": 24,
   "id": "dea0b39b-52cf-4ede-838b-6ae8ea381215",
   "metadata": {},
   "outputs": [],
   "source": [
    "similarity_score = list(enumerate(similarity[index_of_the_movie]))"
   ]
  },
  {
   "cell_type": "code",
   "execution_count": 25,
   "id": "14326beb-43aa-4eb3-8938-c88b20ff4103",
   "metadata": {},
   "outputs": [
    {
     "data": {
      "text/plain": [
       "4803"
      ]
     },
     "execution_count": 25,
     "metadata": {},
     "output_type": "execute_result"
    }
   ],
   "source": [
    "len(similarity_score)"
   ]
  },
  {
   "cell_type": "code",
   "execution_count": 26,
   "id": "160f6e85-61b0-41a4-bde7-a4fb9f2848db",
   "metadata": {},
   "outputs": [],
   "source": [
    "sorted_similar_movies = sorted(similarity_score, key = lambda x:x[1], reverse = True)"
   ]
  },
  {
   "cell_type": "code",
   "execution_count": 27,
   "id": "11b8f035",
   "metadata": {},
   "outputs": [
    {
     "name": "stdout",
     "output_type": "stream",
     "text": [
      "Movies suggested for you: \n",
      "\n",
      "1 . Avatar\n",
      "2 . Alien\n",
      "3 . Aliens\n",
      "4 . Guardians of the Galaxy\n",
      "5 . Star Trek Beyond\n",
      "6 . Star Trek Into Darkness\n",
      "7 . Galaxy Quest\n",
      "8 . Alien³\n",
      "9 . Cargo\n",
      "10 . Trekkies\n",
      "11 . Gravity\n",
      "12 . Moonraker\n",
      "13 . Jason X\n",
      "14 . Pocahontas\n",
      "15 . Space Cowboys\n",
      "16 . The Helix... Loaded\n",
      "17 . Lockout\n",
      "18 . Event Horizon\n",
      "19 . Space Dogs\n",
      "20 . Machete Kills\n",
      "21 . Gettysburg\n",
      "22 . Clash of the Titans\n",
      "23 . Star Wars: Clone Wars: Volume 1\n",
      "24 . The Right Stuff\n",
      "25 . Terminator Salvation\n",
      "26 . The Astronaut's Wife\n",
      "27 . Planet of the Apes\n",
      "28 . Star Trek\n",
      "29 . Wing Commander\n"
     ]
    }
   ],
   "source": [
    "print('Movies suggested for you: \\n')\n",
    "i=1\n",
    "for movie in sorted_similar_movies:\n",
    "    index = movie[0]\n",
    "    title_from_index = m_data[m_data.index==index]['title'].values[0]\n",
    "    if i<30:\n",
    "        print(i, '.',title_from_index)\n",
    "        i+=1"
   ]
  },
  {
   "cell_type": "code",
   "execution_count": 31,
   "id": "f20ba658-4f26-4a20-a3f6-0420db9550ae",
   "metadata": {},
   "outputs": [
    {
     "name": "stdout",
     "output_type": "stream",
     "text": [
      "Enter your favourite movie name: John Carter\n",
      "Movies suggested for you: \n",
      "\n",
      "1 . Avatar\n",
      "2 . Alien\n",
      "3 . Aliens\n",
      "4 . Guardians of the Galaxy\n",
      "5 . Star Trek Beyond\n",
      "6 . Star Trek Into Darkness\n",
      "7 . Galaxy Quest\n",
      "8 . Alien³\n",
      "9 . Cargo\n",
      "10 . Trekkies\n",
      "11 . Gravity\n",
      "12 . Moonraker\n",
      "13 . Jason X\n",
      "14 . Pocahontas\n",
      "15 . Space Cowboys\n",
      "16 . The Helix... Loaded\n",
      "17 . Lockout\n",
      "18 . Event Horizon\n",
      "19 . Space Dogs\n",
      "20 . Machete Kills\n",
      "21 . Gettysburg\n",
      "22 . Clash of the Titans\n",
      "23 . Star Wars: Clone Wars: Volume 1\n",
      "24 . The Right Stuff\n",
      "25 . Terminator Salvation\n",
      "26 . The Astronaut's Wife\n",
      "27 . Planet of the Apes\n",
      "28 . Star Trek\n",
      "29 . Wing Commander\n"
     ]
    }
   ],
   "source": [
    "m_name = input('Enter your favourite movie name: ')\n",
    "list_of_all_titles = m_data['title'].tolist()\n",
    "find_close_mtch = difflib.get_close_matches(m_name, list_of_all_titles)\n",
    "close_match = find_close_match[0]\n",
    "index_of_the_movie = m_data[m_data.title == close_match]['index'].values[0]\n",
    "similarity_score = list(enumerate(similarity[index_of_the_movie]))\n",
    "sorted_similar_movies = sorted(similarity_score, key = lambda x:x[1], reverse = True)\n",
    "print('Movies suggested for you: \\n')\n",
    "i=1\n",
    "for movie in sorted_similar_movies:\n",
    "    index = movie[0]\n",
    "    title_from_index = m_data[m_data.index==index]['title'].values[0]\n",
    "    if i<30:\n",
    "        print(i, '.',title_from_index)\n",
    "        i+=1"
   ]
  }
 ],
 "metadata": {
  "kernelspec": {
   "display_name": "Python 3 (ipykernel)",
   "language": "python",
   "name": "python3"
  },
  "language_info": {
   "codemirror_mode": {
    "name": "ipython",
    "version": 3
   },
   "file_extension": ".py",
   "mimetype": "text/x-python",
   "name": "python",
   "nbconvert_exporter": "python",
   "pygments_lexer": "ipython3",
   "version": "3.9.13"
  }
 },
 "nbformat": 4,
 "nbformat_minor": 5
}
